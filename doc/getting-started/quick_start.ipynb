{
 "cells": [
  {
   "cell_type": "markdown",
   "id": "b22f597d-ec17-4ab9-8933-28e92af2438d",
   "metadata": {},
   "source": [
    "# DeePMD-kit Quick Start Tutorial"
   ]
  },
  {
   "cell_type": "markdown",
   "id": "7a41db5f",
   "metadata": {},
   "source": [
    "<a href=\"https://nb.bohrium.dp.tech/detail/3313403083\" target=\"_blank\"><img src=\"https://cdn.dp.tech/bohrium/web/static/images/open-in-bohrium.svg\" alt=\"Open In Bohrium\"/></a>"
   ]
  },
  {
   "cell_type": "markdown",
   "id": "85b62e3d-dfae-402f-96a5-5672367d2d17",
   "metadata": {},
   "source": [
    "<div style=\"color:black; background-color:#FFF3E9; border: 1px solid #FFE0C3; border-radius: 10px; margin-bottom:1rem\">\n",
    "    <p style=\"margin:1rem; padding-left: 1rem; line-height: 2.5;\">\n",
    "        ©️ <b><i>Copyright 2024 @ Authors</i></b><br/>\n",
    "        📖 <b>Getting Started Guide</b><br/>\n",
    "        Licensing Agreement: This work is licensed under the <a rel=\"license\" href=\"http://creativecommons.org/licenses/by-nc-sa/4.0/\">Creative Commons Attribution-NonCommercial-ShareAlike 4.0 International License</a>.<br/><br/>\n",
    "       This document can be executed directly on the <a style=\"font-weight:bold; color:rgb(85, 91, 228)\" href=\"https://bohrium-doc.dp.tech/docs/userguide/Notebook\" target=\"_blank\"> Bohrium Notebook</a>. To begin,you can click the  <span style=\"background-color:rgb(85, 91, 228); color:white; padding: 3px; border-radius: 5px;box-shadow: 2px 2px 3px rgba(0, 0, 0, 0.3); font-size:0.75rem;\">Open in Bohrium</span>  button above to quickly run this document in Bohrium. <br/><br/>\n",
    "       After opening Bohrium Notebook, click the button <span style=\"background-color:rgb(85, 91, 228); color:white; padding: 3px; border-radius: 5px;box-shadow: 2px 2px 3px rgba(0, 0, 0, 0.3); font-size:0.75rem;\">connect</span> .We have already set up the recommended image <b><u>DeePMD-kit:2.2.1-cuda11.6-notebook</u></b> and the recommended machine type <b><u>c32_m64_cpu</u></b> for you.\n",
    "    </p>\n",
    "</div>"
   ]
  },
  {
   "cell_type": "markdown",
   "id": "dbab8963",
   "metadata": {},
   "source": [
    "**This is a quick start guide for \"Deep Potential\" molecular dynamics using DeePMD-kit, through which you can quickly understand the paradigm cycle that DeePMD-kit operates in and apply it to your projects.**\n",
    "<p>Deep Potential is the convergence of machine learning and physical principles, presenting a new computational paradigm as shown in the figure below.</p>\n",
    "<div style=\"text-align: center;\">\n",
    "    <img src=\"https://bohrium-example.oss-cn-zhangjiakou.aliyuncs.com/notebook/static/mdkit/DPMD1.svg\" alt=\"Fig2\" style=\"zoom: 75%;\">\n",
    "    <p style='font-size:0.8rem; font-weight:bold'>Figure | A new computational paradigm, composed of Molecular Modeling, Machine Learning, and High-Performance Computing (HPC).</p>\n",
    "</div>\n"
   ]
  },
  {
   "cell_type": "markdown",
   "id": "f4416190-479c-4b2f-9e08-33690bc4941d",
   "metadata": {},
   "source": [
    "## Task\n",
    "\n",
    "> **Mastering the paradigm cycle of using DeePMD-kit to establish deep potential molecular dynamics models, and following a complete case to learn how to apply it to molecular dynamics tasks.**\n",
    "\n",
    "By the end of this tutorial, you will be able to:\n",
    "\n",
    "* Prepare the formataive dataset and running scripts for training with DeePMD-kit;\n",
    "* Train, freeze, and test DeePMD-kit models;\n",
    "* Use DeePMD-kit in Lammps for calculations;\n",
    "\n",
    "Work through this tutorial. It will take you 20 minutes, max!"
   ]
  },
  {
   "cell_type": "markdown",
   "id": "8e6587cb-ba6e-42ba-a139-0595fc7f79d7",
   "metadata": {},
   "source": [
    "## Table of contents\n",
    "\n",
    "<div align=\"left\" style=\"margin:rem;\"><img src=\"https://docs.deepmodeling.com/projects/deepmd/en/master/_static/logo.svg\" alt=\"deepmd-kit\" style=\"width:20rem;\"></div>\n",
    "\n",
    "* [Background](#background)\n",
    "* [Practice](#practice)\n",
    "    * [1. Data preparation](#dataprepare)\n",
    "    * [2. Prepare input script](#inputscript)\n",
    "    * [3. Train a model](#trainamodel)\n",
    "    * [4. Freeze a model](#freezeamodel)\n",
    "    * [5. Compress a model](#compressamodel)\n",
    "    * [6. Test a model](#testamodel)\n",
    "    * [7. Run MD with LAMMPS](#lammpsmd)\n",
    "* [References](#references)\n"
   ]
  },
  {
   "cell_type": "markdown",
   "id": "42afcb0e",
   "metadata": {},
   "source": [
    "## Background <a id ='background'></a>\n",
    "\n",
    "In this tutorial, we will take the gaseous methane molecule as an example to provide a detailed introduction to the training and application of the Deep Potential (DP) model.\n",
    "\n",
    "DeePMD-kit is a software tool that employs neural networks to fit potential energy models based on first-principles data for molecular dynamics simulations. Without manual intervention, it can end-to-end transform the data provided by users into a deep potential model in a matter of hours. This model can seamlessly integrate with common molecular dynamics simulation software (like LAMMPS, OpenMM, and GROMACS).\n",
    "\n",
    "DeePMD-kit significantly elevates the limits of molecular dynamics through high-performance computing and machine learning, achieving system scales of up to hundreds of millions of atoms while still maintaining the high accuracy of \"ab initio\" calculations. The simulation time scale is improved by at least 1000 times compared to traditional methods. Its achievements earned the 2020 ACM Gordon Bell Prize, one of the highest honors in the field of high-performance computing, and it has been used by over a thousand research groups in physics, chemistry, materials science, biology, and other fields globally.\n",
    "\n",
    "<img src=\"https://bohrium-example.oss-cn-zhangjiakou.aliyuncs.com/notebook/static/mdkit/DPMD_Time_and_Size_Scales.svg\" alt=\"Fig1\" style=\"zoom: 75%;\">\n",
    "\n",
    "For more detailed usage, you can refer to the [DeePMD-kit’s documentation](https://docs.deepmodeling.org/projects/deepmd/en/master/index.html) as a comprehensive reference.\n",
    "\n",
    "In this case, the Deep Potential (DP) model was generated using the **DeePMD-kit package**.\n",
    "\n"
   ]
  },
  {
   "cell_type": "markdown",
   "id": "275d9d23",
   "metadata": {},
   "source": [
    "## Practice <a id ='practice'></a>"
   ]
  },
  {
   "cell_type": "markdown",
   "id": "e452966d",
   "metadata": {},
   "source": [
    "### 1 Data Preparation <a id ='dataprepare'></a>\n",
    "\n",
    "We have prepared the initial data for $CH_4$ required to run DeePMD-kit computations and placed it in the `DeePMD-kit_Tutorial` folder. You can view the corresponding files by clicking on the dataset on the left side:"
   ]
  },
  {
   "cell_type": "code",
   "execution_count": 2,
   "id": "34ea0475",
   "metadata": {},
   "outputs": [
    {
     "name": "stdout",
     "output_type": "stream",
     "text": [
      "Current path is: /personal/bohr/DeePMD-kit-Tutorial-21f1/v1\n"
     ]
    }
   ],
   "source": [
    "# For security reasons, we do not have write permission to the dataset folder, so we copy it to the `/data/` directory:\n",
    "! cp -nr /bohr/ /personal/\n",
    "\n",
    "# Here, we define some paths and switch to the working path for ease of subsequent calls:\n",
    "import os\n",
    "\n",
    "bohr_dataset_url = \"/bohr/DeePMD-kit-Tutorial-21f1/v1/\"  # The URL can be copied from the dataset section on the left.\n",
    "work_path = os.path.join(\n",
    "    \"/personal\", bohr_dataset_url[1:]\n",
    ")  # A slice operation is used to remove the leading \"/\" from the path.\n",
    "os.chdir(work_path)\n",
    "print(f\"Current path is: {os.getcwd()}\")"
   ]
  },
  {
   "cell_type": "markdown",
   "id": "a265a0d9",
   "metadata": {},
   "source": [
    "Let's take a look at the downloaded DeePMD-kit_Tutorial folder."
   ]
  },
  {
   "cell_type": "code",
   "execution_count": 3,
   "id": "2ea12f86",
   "metadata": {},
   "outputs": [
    {
     "name": "stdout",
     "output_type": "stream",
     "text": [
      "\u001b[01;34mDeePMD-kit_Tutorial\u001b[0m\n",
      "├── \u001b[01;34m00.data\u001b[0m\n",
      "├── \u001b[01;34m01.train\u001b[0m\n",
      "├── \u001b[01;34m01.train.finished\u001b[0m\n",
      "├── \u001b[01;34m02.lmp\u001b[0m\n",
      "└── \u001b[01;34m02.lmp.finished\u001b[0m\n",
      "\n",
      "5 directories, 0 files\n"
     ]
    }
   ],
   "source": [
    "! tree DeePMD-kit_Tutorial -L 1"
   ]
  },
  {
   "cell_type": "markdown",
   "id": "1da4b858",
   "metadata": {},
   "source": [
    "There are 3 subfolders under the DeePMD-kit_Tutorial folder: 00.data, 01.train, and 02.lmp.\n",
    "\n",
    "- The 00.data folder is used to store training and testing data.\n",
    "- The 01.train folder contains example scripts for training models using DeePMD-kit.\n",
    "- The 01.train.finished folder includes the complete results of the training process.\n",
    "- The 02.lmp folder contains example scripts for molecular dynamics simulations using LAMMPS.\n",
    "\n",
    "Let's first take a look at the DeePMD-kit_Tutorial/00.data folder."
   ]
  },
  {
   "cell_type": "code",
   "execution_count": 4,
   "id": "509f7efe",
   "metadata": {},
   "outputs": [
    {
     "name": "stdout",
     "output_type": "stream",
     "text": [
      "\u001b[01;34mDeePMD-kit_Tutorial/00.data\u001b[0m\n",
      "├── \u001b[01;34mabacus_md\u001b[0m\n",
      "├── \u001b[01;34mtraining_data\u001b[0m\n",
      "└── \u001b[01;34mvalidation_data\u001b[0m\n",
      "\n",
      "3 directories, 0 files\n"
     ]
    }
   ],
   "source": [
    "! tree DeePMD-kit_Tutorial/00.data -L 1"
   ]
  },
  {
   "cell_type": "markdown",
   "id": "8373a3a4",
   "metadata": {},
   "source": [
    "DeePMD-kit's training data originates from first-principles calculation data, including atomic types, simulation cells, atomic coordinates, atomic forces, system energies, and virials.\n",
    "\n",
    "<div align=\"left\" style=\"margin:1.5rem\"><img src=\"https://ars.els-cdn.com/content/image/1-s2.0-S0010465518300882-gr1_lrg.jpg\" alt=\"image-20230116161737203\" style=\"zoom: 25%;\"></div>\n",
    "\n",
    "In the *00.data* folder, there is only the *abacus_md* folder, which contains data obtained through *ab initio* Molecular Dynamics (AIMD) simulations using ABACUS. In this tutorial, we have already completed the *ab initio* molecular dynamics calculations for the methane molecule for you.\n",
    "\n",
    "Detailed information about ABACUS can be found in its [documentation](https://abacus.deepmodeling.com/en/latest/). \n",
    "\n",
    "DeePMD-kit uses a compressed data format. All training data should first be converted into this format before they can be used in DeePMD-kit. This data format is explained in detail in the DeePMD-kit manual, which can be found on [DeePMD-kit's Github](http://www.github.com/deepmodeling/deepmd-kit).\n",
    "\n",
    "We provide a convenient tool **dpdata**, which can convert data generated by VASP, CP2K, Gaussian, Quantum Espresso, ABACUS, and LAMMPS into DeePMD-kit's compressed format.\n",
    "\n",
    "A snapshot of a molecular system that contains computational data information is called a frame. A data system comprises many frames sharing the same number of atoms and atom types.\n",
    "\n",
    "For example, a molecular dynamics trajectory can be converted into a data system, where each timestep corresponds to one frame in the system.\n"
   ]
  },
  {
   "cell_type": "markdown",
   "id": "e62f0115",
   "metadata": {},
   "source": [
    "Next, we use the dpdata tool to randomly split the data in abacus_md into training and validation data.\n"
   ]
  },
  {
   "cell_type": "code",
   "execution_count": 5,
   "id": "b5fbc838",
   "metadata": {},
   "outputs": [
    {
     "name": "stdout",
     "output_type": "stream",
     "text": [
      "# the data contains 201 frames\n",
      "# the training data contains 161 frames\n",
      "# the validation data contains 40 frames\n"
     ]
    }
   ],
   "source": [
    "import dpdata\n",
    "import numpy as np\n",
    "\n",
    "# load data of abacus/md format\n",
    "data = dpdata.LabeledSystem(\"DeePMD-kit_Tutorial/00.data/abacus_md\", fmt=\"abacus/md\")\n",
    "print(\"# the data contains %d frames\" % len(data))\n",
    "\n",
    "# random choose 40 index for validation_data\n",
    "index_validation = np.random.choice(201, size=40, replace=False)\n",
    "\n",
    "# other indexes are training_data\n",
    "index_training = list(set(range(201)) - set(index_validation))\n",
    "data_training = data.sub_system(index_training)\n",
    "data_validation = data.sub_system(index_validation)\n",
    "\n",
    "# all training data put into directory:\"training_data\"\n",
    "data_training.to_deepmd_npy(\"DeePMD-kit_Tutorial/00.data/training_data\")\n",
    "\n",
    "# all validation data put into directory:\"validation_data\"\n",
    "data_validation.to_deepmd_npy(\"DeePMD-kit_Tutorial/00.data/validation_data\")\n",
    "\n",
    "print(\"# the training data contains %d frames\" % len(data_training))\n",
    "print(\"# the validation data contains %d frames\" % len(data_validation))"
   ]
  },
  {
   "cell_type": "markdown",
   "id": "98719865-ab3d-4440-8c14-78a1c253c3a6",
   "metadata": {},
   "source": [
    "As you can see, 161 frames are picked as training data, and the other 40 frames are validation dat.\n",
    "\n",
    "Let's take another look at the 00.data folder, where new files have been generated, which are the training and validation sets required for Deep Potential training with DeePMD-kit.\n"
   ]
  },
  {
   "cell_type": "code",
   "execution_count": 6,
   "id": "e5befaf5-c464-4e8f-8544-a2634f5fd1d2",
   "metadata": {},
   "outputs": [
    {
     "name": "stdout",
     "output_type": "stream",
     "text": [
      "\u001b[01;34mDeePMD-kit_Tutorial/00.data/\u001b[0m\n",
      "├── \u001b[01;34mabacus_md\u001b[0m\n",
      "├── \u001b[01;34mtraining_data\u001b[0m\n",
      "└── \u001b[01;34mvalidation_data\u001b[0m\n",
      "\n",
      "3 directories, 0 files\n"
     ]
    }
   ],
   "source": [
    "! tree DeePMD-kit_Tutorial/00.data/ -L 1"
   ]
  },
  {
   "cell_type": "code",
   "execution_count": 7,
   "id": "70cc9898",
   "metadata": {},
   "outputs": [
    {
     "name": "stdout",
     "output_type": "stream",
     "text": [
      "\u001b[01;34mDeePMD-kit_Tutorial/00.data/training_data\u001b[0m\n",
      "├── \u001b[01;34mset.000\u001b[0m\n",
      "├── \u001b[01;32mtype.raw\u001b[0m\n",
      "└── \u001b[01;32mtype_map.raw\u001b[0m\n",
      "\n",
      "1 directory, 2 files\n"
     ]
    }
   ],
   "source": [
    "! tree DeePMD-kit_Tutorial/00.data/training_data -L 1"
   ]
  },
  {
   "cell_type": "markdown",
   "id": "542b24fd",
   "metadata": {},
   "source": [
    "The functions of these files are as follows:\n",
    "\n",
    "- set.000: It is a directory that contains compressed format data (NumPy compressed arrays).\n",
    "- type.raw: It is a file that contains the types of atoms (represented as integers).\n",
    "- type_map.raw: It is a file that contains the names of the types of atoms.\n",
    "\n",
    "Let's take a look at these files."
   ]
  },
  {
   "cell_type": "markdown",
   "id": "99770e51-4d9e-44db-bb93-1c7061c8862c",
   "metadata": {},
   "source": [
    "Let's have a look at `type.raw`:"
   ]
  },
  {
   "cell_type": "code",
   "execution_count": 8,
   "id": "a686585c-3e5b-4a5c-9cc7-4db7759b74b2",
   "metadata": {},
   "outputs": [
    {
     "name": "stdout",
     "output_type": "stream",
     "text": [
      "0\n",
      "0\n",
      "0\n",
      "0\n",
      "1\n"
     ]
    }
   ],
   "source": [
    "! cat DeePMD-kit_Tutorial/00.data/training_data/type.raw "
   ]
  },
  {
   "cell_type": "markdown",
   "id": "b5357cc5-9cdd-4c52-a611-a84cee739fb0",
   "metadata": {},
   "source": [
    "This tells us there are 5 atoms in this example, 4 atoms represented by type \"0\", and 1 atom represented by type \"1\".\n",
    "Sometimes one needs to map the integer types to atom name. The mapping can be given by the file `type_map.raw`"
   ]
  },
  {
   "cell_type": "code",
   "execution_count": 9,
   "id": "6216f02d-3a21-481f-99da-3f23b438a7c0",
   "metadata": {},
   "outputs": [
    {
     "name": "stdout",
     "output_type": "stream",
     "text": [
      "H\n",
      "C\n"
     ]
    }
   ],
   "source": [
    "! cat DeePMD-kit_Tutorial/00.data/training_data/type_map.raw"
   ]
  },
  {
   "cell_type": "markdown",
   "id": "1196aa0f-22c5-4b96-8640-c82068fa7828",
   "metadata": {},
   "source": [
    "This tells us the type \"0\" is named by \"H\", and the type \"1\" is named by \"C\".\n",
    "\n",
    "More detailed documentation on using dpdata for data conversion can be found [here](https://docs.deepmodeling.org/projects/deepmd/en/master/data/data-conv.html)"
   ]
  },
  {
   "cell_type": "markdown",
   "id": "ac6c969b-10cb-49f0-9b84-7dc9ffa38c61",
   "metadata": {},
   "source": [
    "### 2 Prepare input script  <a id ='inputscript'></a>\n",
    "Once the data preparation is done, we can go on with training. Now go to the training directory.\n",
    "DeePMD-kit requires a `json` format file to specify parameters for training. "
   ]
  },
  {
   "cell_type": "code",
   "execution_count": 10,
   "id": "d371a240",
   "metadata": {},
   "outputs": [
    {
     "name": "stdout",
     "output_type": "stream",
     "text": [
      "{\n",
      "    \"_comment\": \" model parameters\",\n",
      "    \"model\": {\n",
      "\t\"type_map\":\t[\"H\", \"C\"],\n",
      "\t\"descriptor\" :{\n",
      "\t    \"type\":\t\t\"se_e2_a\",\n",
      "\t    \"sel\":\t\t\"auto\",\n",
      "\t    \"rcut_smth\":\t0.50,\n",
      "\t    \"rcut\":\t\t6.00,\n",
      "\t    \"neuron\":\t\t[25, 50, 100],\n",
      "\t    \"resnet_dt\":\tfalse,\n",
      "\t    \"axis_neuron\":\t16,\n",
      "\t    \"seed\":\t\t1,\n",
      "\t    \"_comment\":\t\t\" that's all\"\n",
      "\t},\n",
      "\t\"fitting_net\" : {\n",
      "\t    \"neuron\":\t\t[240, 240, 240],\n",
      "\t    \"resnet_dt\":\ttrue,\n",
      "\t    \"seed\":\t\t1,\n",
      "\t    \"_comment\":\t\t\" that's all\"\n",
      "\t},\n",
      "\t\"_comment\":\t\" that's all\"\n",
      "    },\n",
      "\n",
      "    \"learning_rate\" :{\n",
      "\t\"type\":\t\t\"exp\",\n",
      "\t\"decay_steps\":\t50,\n",
      "\t\"start_lr\":\t0.001,\t\n",
      "\t\"stop_lr\":\t3.51e-8,\n",
      "\t\"_comment\":\t\"that's all\"\n",
      "    },\n",
      "\n",
      "    \"loss\" :{\n",
      "\t\"type\":\t\t\"ener\",\n",
      "\t\"start_pref_e\":\t0.02,\n",
      "\t\"limit_pref_e\":\t1,\n",
      "\t\"start_pref_f\":\t1000,\n",
      "\t\"limit_pref_f\":\t1,\n",
      "\t\"start_pref_v\":\t0,\n",
      "\t\"limit_pref_v\":\t0,\n",
      "\t\"_comment\":\t\" that's all\"\n",
      "    },\n",
      "\n",
      "    \"training\" : {\n",
      "\t\"training_data\": {\n",
      "\t    \"systems\":     [\"../00.data/training_data\"],\n",
      "\t    \"batch_size\":  \"auto\",\n",
      "\t    \"_comment\":\t   \"that's all\"\n",
      "\t},\n",
      "\t\"validation_data\":{\n",
      "\t    \"systems\":\t   [\"../00.data/validation_data\"],\n",
      "\t    \"batch_size\":  \"auto\",\n",
      "\t    \"numb_btch\":   1,\n",
      "\t    \"_comment\":\t   \"that's all\"\n",
      "\t},\n",
      "\t\"numb_steps\":\t10000,\n",
      "\t\"seed\":\t\t10,\n",
      "\t\"disp_file\":\t\"lcurve.out\",\n",
      "\t\"disp_freq\":\t200,\n",
      "\t\"save_freq\":\t1000,\n",
      "\t\"_comment\":\t\"that's all\"\n",
      "    },    \n",
      "\n",
      "    \"_comment\":\t\t\"that's all\"\n",
      "}\n",
      "\n"
     ]
    }
   ],
   "source": [
    "! cd DeePMD-kit_Tutorial/01.train/ && cat input.json"
   ]
  },
  {
   "cell_type": "markdown",
   "id": "0a4c680a-abcf-40b9-b00e-fa4615aa91b9",
   "metadata": {},
   "source": [
    "DeePMD-kit requires a `json` format file to specify parameters for training. \n",
    "\n",
    "In the model section, the parameters of embedding and fitting networks are specified.\n",
    "```json\n",
    "\"model\":{\n",
    "    \"type_map\":    [\"H\", \"C\"],                 \n",
    "    \"descriptor\":{\n",
    "        \"type\":            \"se_e2_a\",          \n",
    "        \"rcut\":            6.00,               \n",
    "        \"rcut_smth\":       0.50,               \n",
    "        \"sel\":             \"auto\",             \n",
    "        \"neuron\":          [25, 50, 100],       \n",
    "        \"resnet_dt\":       false,\n",
    "        \"axis_neuron\":     16,                  \n",
    "        \"seed\":            1,\n",
    "        \"_comment\":        \"that's all\"\n",
    "        },\n",
    "    \"fitting_net\":{\n",
    "        \"neuron\":          [240, 240, 240],    \n",
    "        \"resnet_dt\":       true,\n",
    "        \"seed\":            1,\n",
    "        \"_comment\":        \"that's all\"\n",
    "    },\n",
    "    \"_comment\":    \"that's all\"'\n",
    "},\n",
    "```\n",
    "The explanation for some of the parameters is as follows:\n",
    "\n",
    "| Parameter                | Expiation                                                    |\n",
    "| ------------------------ | ------------------------------------------------------------ |\n",
    "| type_map                 | *the* *name* *of* *each* *type* *of* *atom*                  |\n",
    "| descriptor > type        | *the* *type* *of* *descriptor*                               |\n",
    "| descriptor > rcut        | *cut-off* *radius*                                           |\n",
    "| descriptor > rcut_smth   | *where* *the* *smoothing* *starts*                           |\n",
    "| descriptor > sel         | *the* *maximum* *number* *of* *type* *i* *atoms* *in* *the* *cut-off* *radius* |\n",
    "| descriptor > neuron      | *size* *of* *the* *embedding* *neural* *network*             |\n",
    "| descriptor > axis_neuron | *the* *size* *of* *the* *submatrix* *of* *G* *(embedding* *matrix)* |\n",
    "| fitting_net > neuron     | *size* *of* *the* *fitting* *neural* *network*               |\n",
    "\n",
    "The `se_e2_a` descriptor is used to train the DP model. The item neurons set the size of the descriptors and fitting network to [25, 50, 100] and [240, 240, 240], respectively. The components in local environment to smoothly go to zero from 0.5 to 6 Å.\n",
    "\n",
    "The following are the parameters that specify the learning rate and loss function.\n",
    "```json\n",
    "    \"learning_rate\" :{\n",
    "        \"type\":                \"exp\",\n",
    "        \"decay_steps\":         50,\n",
    "        \"start_lr\":            0.001,    \n",
    "        \"stop_lr\":             3.51e-8,\n",
    "        \"_comment\":            \"that's all\"\n",
    "    },\n",
    "    \"loss\" :{\n",
    "        \"type\":                \"ener\",\n",
    "        \"start_pref_e\":        0.02,\n",
    "        \"limit_pref_e\":        1,\n",
    "        \"start_pref_f\":        1000,\n",
    "        \"limit_pref_f\":        1,\n",
    "        \"start_pref_v\":        0,\n",
    "        \"limit_pref_v\":        0,\n",
    "        \"_comment\":            \"that's all\"\n",
    "    },\n",
    "```\n",
    "In the loss function, `pref_e` increases from 0.02 to 1, and `pref_f` decreases from 1000 to 1  progressively, which means that the force term dominates at the beginning, while energy and virial terms become important at the end. This strategy is very effective and reduces the total training time. `pref_v` is set to 0 , indicating that no virial data are included in the training process. The starting learning rate, stop learning rate, and decay steps are set to 0.001, 3.51e-8, and 50, respectively. The model is trained for 10000 steps.\n",
    "\n",
    "The training parameters are given in the following\n",
    "```json\n",
    "    \"training\" : {\n",
    "        \"training_data\": {\n",
    "            \"systems\":            [\"../00.data/training_data\"],     \n",
    "            \"batch_size\":         \"auto\",                       \n",
    "            \"_comment\":           \"that's all\"\n",
    "        },\n",
    "        \"validation_data\":{\n",
    "            \"systems\":            [\"../00.data/validation_data/\"],\n",
    "            \"batch_size\":         \"auto\",               \n",
    "            \"numb_btch\":          1,\n",
    "            \"_comment\":           \"that's all\"\n",
    "        },\n",
    "        \"numb_steps\":             10000,                           \n",
    "        \"seed\":                   10,\n",
    "        \"disp_file\":              \"lcurve.out\",\n",
    "        \"disp_freq\":              200,\n",
    "        \"save_freq\":              10000,\n",
    "        },\n",
    "```"
   ]
  },
  {
   "cell_type": "markdown",
   "id": "7b0edb0f-df47-4e6c-8c37-5f32c4bd6b39",
   "metadata": {},
   "source": [
    "More detailed docs about Data conversion can be found [here](https://docs.deepmodeling.org/projects/deepmd/en/master/data/data-conv.html)"
   ]
  },
  {
   "cell_type": "markdown",
   "id": "bafe20b8-3bde-403c-ae42-b68ba5f29703",
   "metadata": {},
   "source": [
    "### 3 Train a model  <a id ='trainamodel'></a>\n",
    "After the training script is prepared, we can start the training with DeePMD-kit by simply running"
   ]
  },
  {
   "cell_type": "code",
   "execution_count": 11,
   "id": "e04a05a3-ccac-474b-bc24-58fbf20b9ffe",
   "metadata": {
    "scrolled": true,
    "tags": []
   },
   "outputs": [
    {
     "name": "stdout",
     "output_type": "stream",
     "text": [
      "WARNING:tensorflow:From /root/miniconda3/envs/deepmd/lib/python3.10/site-packages/tensorflow/python/compat/v2_compat.py:107: disable_resource_variables (from tensorflow.python.ops.variable_scope) is deprecated and will be removed in a future version.\n",
      "Instructions for updating:\n",
      "non-resource variables are not supported in the long term\n",
      "WARNING:root:To get the best performance, it is recommended to adjust the number of threads by setting the environment variables OMP_NUM_THREADS, TF_INTRA_OP_PARALLELISM_THREADS, and TF_INTER_OP_PARALLELISM_THREADS. See https://deepmd.rtfd.io/parallelism/ for more information.\n",
      "DEEPMD INFO    Calculate neighbor statistics... (add --skip-neighbor-stat to skip this step)\n",
      "DEEPMD INFO    training data with min nbor dist: 1.0495341121569708\n",
      "DEEPMD INFO    training data with max nbor size: [4 1]\n",
      "DEEPMD INFO     _____               _____   __  __  _____           _     _  _   \n",
      "DEEPMD INFO    |  __ \\             |  __ \\ |  \\/  ||  __ \\         | |   (_)| |  \n",
      "DEEPMD INFO    | |  | |  ___   ___ | |__) || \\  / || |  | | ______ | | __ _ | |_ \n",
      "DEEPMD INFO    | |  | | / _ \\ / _ \\|  ___/ | |\\/| || |  | ||______|| |/ /| || __|\n",
      "DEEPMD INFO    | |__| ||  __/|  __/| |     | |  | || |__| |        |   < | || |_ \n",
      "DEEPMD INFO    |_____/  \\___| \\___||_|     |_|  |_||_____/         |_|\\_\\|_| \\__|\n",
      "DEEPMD INFO    Please read and cite:\n",
      "DEEPMD INFO    Wang, Zhang, Han and E, Comput.Phys.Comm. 228, 178-184 (2018)\n",
      "DEEPMD INFO    Zeng et al, J. Chem. Phys., 159, 054801 (2023)\n",
      "DEEPMD INFO    See https://deepmd.rtfd.io/credits/ for details.\n",
      "DEEPMD INFO    installed to:         /root/miniconda3/envs/deepmd\n",
      "DEEPMD INFO    source :              v2.2.7\n",
      "DEEPMD INFO    source brach:         HEAD\n",
      "DEEPMD INFO    source commit:        839f4fe7\n",
      "DEEPMD INFO    source commit at:     2023-10-27 21:10:24 +0800\n",
      "DEEPMD INFO    build float prec:     double\n",
      "DEEPMD INFO    build variant:        cpu\n",
      "DEEPMD INFO    build with tf inc:    /root/miniconda3/envs/deepmd/lib/python3.10/site-packages/tensorflow/include;/root/miniconda3/envs/deepmd/lib/python3.10/site-packages/tensorflow/../../../../include\n",
      "DEEPMD INFO    build with tf lib:    \n",
      "DEEPMD INFO    ---Summary of the training---------------------------------------\n",
      "DEEPMD INFO    running on:           bohrium-21213-1088639\n",
      "DEEPMD INFO    computing device:     cpu:0\n",
      "DEEPMD INFO    Count of visible GPU: 0\n",
      "DEEPMD INFO    num_intra_threads:    0\n",
      "DEEPMD INFO    num_inter_threads:    0\n",
      "DEEPMD INFO    -----------------------------------------------------------------\n",
      "DEEPMD INFO    ---Summary of DataSystem: training     -----------------------------------------------\n",
      "DEEPMD INFO    found 1 system(s):\n",
      "DEEPMD INFO                                        system  natoms  bch_sz   n_bch   prob  pbc\n",
      "DEEPMD INFO                      ../00.data/training_data       5       7      23  1.000    T\n",
      "DEEPMD INFO    --------------------------------------------------------------------------------------\n",
      "DEEPMD INFO    ---Summary of DataSystem: validation   -----------------------------------------------\n",
      "DEEPMD INFO    found 1 system(s):\n",
      "DEEPMD INFO                                        system  natoms  bch_sz   n_bch   prob  pbc\n",
      "DEEPMD INFO                    ../00.data/validation_data       5       7       5  1.000    T\n",
      "DEEPMD INFO    --------------------------------------------------------------------------------------\n",
      "DEEPMD INFO    training without frame parameter\n",
      "DEEPMD INFO    data stating... (this step may take long time)\n",
      "DEEPMD INFO    built lr\n",
      "DEEPMD INFO    built network\n",
      "DEEPMD INFO    built training\n",
      "WARNING:root:To get the best performance, it is recommended to adjust the number of threads by setting the environment variables OMP_NUM_THREADS, TF_INTRA_OP_PARALLELISM_THREADS, and TF_INTER_OP_PARALLELISM_THREADS. See https://deepmd.rtfd.io/parallelism/ for more information.\n",
      "DEEPMD INFO    initialize model from scratch\n",
      "DEEPMD INFO    start training at lr 1.00e-03 (== 1.00e-03), decay_step 50, decay_rate 0.950006, final lr will be 3.51e-08\n",
      "WARNING:tensorflow:From /root/miniconda3/envs/deepmd/lib/python3.10/site-packages/deepmd/train/trainer.py:1197: py_func (from tensorflow.python.ops.script_ops) is deprecated and will be removed in a future version.\n",
      "Instructions for updating:\n",
      "tf.py_func is deprecated in TF V2. Instead, there are two\n",
      "    options available in V2.\n",
      "    - tf.py_function takes a python function which manipulates tf eager\n",
      "    tensors instead of numpy arrays. It's easy to convert a tf eager tensor to\n",
      "    an ndarray (just call tensor.numpy()) but having access to eager tensors\n",
      "    means `tf.py_function`s can use accelerators such as GPUs as well as\n",
      "    being differentiable using a gradient tape.\n",
      "    - tf.numpy_function maintains the semantics of the deprecated tf.py_func\n",
      "    (it is not differentiable, and manipulates numpy arrays). It drops the\n",
      "    stateful argument making all functions stateful.\n",
      "    \n",
      "WARNING:tensorflow:From /root/miniconda3/envs/deepmd/lib/python3.10/site-packages/deepmd/train/trainer.py:1197: py_func (from tensorflow.python.ops.script_ops) is deprecated and will be removed in a future version.\n",
      "Instructions for updating:\n",
      "tf.py_func is deprecated in TF V2. Instead, there are two\n",
      "    options available in V2.\n",
      "    - tf.py_function takes a python function which manipulates tf eager\n",
      "    tensors instead of numpy arrays. It's easy to convert a tf eager tensor to\n",
      "    an ndarray (just call tensor.numpy()) but having access to eager tensors\n",
      "    means `tf.py_function`s can use accelerators such as GPUs as well as\n",
      "    being differentiable using a gradient tape.\n",
      "    - tf.numpy_function maintains the semantics of the deprecated tf.py_func\n",
      "    (it is not differentiable, and manipulates numpy arrays). It drops the\n",
      "    stateful argument making all functions stateful.\n",
      "    \n",
      "DEEPMD INFO    batch     200 training time 17.40 s, testing time 0.05 s, total wall time 18.58 s\n",
      "DEEPMD INFO    batch     400 training time 15.71 s, testing time 0.05 s, total wall time 15.89 s\n",
      "DEEPMD INFO    batch     600 training time 13.96 s, testing time 0.05 s, total wall time 14.12 s\n",
      "DEEPMD INFO    batch     800 training time 15.35 s, testing time 0.05 s, total wall time 15.52 s\n",
      "DEEPMD INFO    batch    1000 training time 14.23 s, testing time 0.04 s, total wall time 14.39 s\n",
      "DEEPMD INFO    saved checkpoint model.ckpt\n",
      "DEEPMD INFO    batch    1200 training time 15.23 s, testing time 0.04 s, total wall time 16.49 s\n",
      "DEEPMD INFO    batch    1400 training time 12.84 s, testing time 0.04 s, total wall time 12.99 s\n",
      "DEEPMD INFO    batch    1600 training time 14.92 s, testing time 0.08 s, total wall time 15.12 s\n",
      "DEEPMD INFO    batch    1800 training time 15.05 s, testing time 0.05 s, total wall time 15.36 s\n",
      "DEEPMD INFO    batch    2000 training time 18.45 s, testing time 0.05 s, total wall time 18.63 s\n",
      "DEEPMD INFO    saved checkpoint model.ckpt\n",
      "DEEPMD INFO    batch    2200 training time 16.82 s, testing time 0.05 s, total wall time 17.54 s\n",
      "DEEPMD INFO    batch    2400 training time 15.95 s, testing time 0.15 s, total wall time 16.21 s\n",
      "DEEPMD INFO    batch    2600 training time 16.61 s, testing time 0.04 s, total wall time 16.77 s\n",
      "DEEPMD INFO    batch    2800 training time 16.35 s, testing time 0.05 s, total wall time 16.52 s\n",
      "DEEPMD INFO    batch    3000 training time 15.06 s, testing time 0.05 s, total wall time 15.23 s\n",
      "DEEPMD INFO    saved checkpoint model.ckpt\n",
      "DEEPMD INFO    batch    3200 training time 16.39 s, testing time 0.05 s, total wall time 16.97 s\n",
      "DEEPMD INFO    batch    3400 training time 16.54 s, testing time 0.09 s, total wall time 16.76 s\n",
      "DEEPMD INFO    batch    3600 training time 15.44 s, testing time 0.05 s, total wall time 15.65 s\n",
      "DEEPMD INFO    batch    3800 training time 17.46 s, testing time 0.05 s, total wall time 17.64 s\n",
      "DEEPMD INFO    batch    4000 training time 16.75 s, testing time 0.06 s, total wall time 16.93 s\n",
      "DEEPMD INFO    saved checkpoint model.ckpt\n",
      "DEEPMD INFO    batch    4200 training time 15.56 s, testing time 0.05 s, total wall time 16.64 s\n",
      "DEEPMD INFO    batch    4400 training time 16.32 s, testing time 0.06 s, total wall time 16.49 s\n",
      "DEEPMD INFO    batch    4600 training time 16.56 s, testing time 0.05 s, total wall time 16.73 s\n",
      "DEEPMD INFO    batch    4800 training time 15.88 s, testing time 0.05 s, total wall time 16.05 s\n",
      "DEEPMD INFO    batch    5000 training time 16.26 s, testing time 0.05 s, total wall time 16.43 s\n",
      "DEEPMD INFO    saved checkpoint model.ckpt\n",
      "DEEPMD INFO    batch    5200 training time 17.87 s, testing time 0.05 s, total wall time 18.63 s\n",
      "DEEPMD INFO    batch    5400 training time 22.08 s, testing time 0.08 s, total wall time 22.33 s\n",
      "DEEPMD INFO    batch    5600 training time 15.93 s, testing time 0.09 s, total wall time 16.14 s\n",
      "DEEPMD INFO    batch    5800 training time 14.56 s, testing time 0.05 s, total wall time 14.73 s\n",
      "DEEPMD INFO    batch    6000 training time 16.01 s, testing time 0.05 s, total wall time 16.19 s\n",
      "WARNING:tensorflow:From /root/miniconda3/envs/deepmd/lib/python3.10/site-packages/tensorflow/python/training/saver.py:1066: remove_checkpoint (from tensorflow.python.training.checkpoint_management) is deprecated and will be removed in a future version.\n",
      "Instructions for updating:\n",
      "Use standard file APIs to delete files with this prefix.\n",
      "WARNING:tensorflow:From /root/miniconda3/envs/deepmd/lib/python3.10/site-packages/tensorflow/python/training/saver.py:1066: remove_checkpoint (from tensorflow.python.training.checkpoint_management) is deprecated and will be removed in a future version.\n",
      "Instructions for updating:\n",
      "Use standard file APIs to delete files with this prefix.\n",
      "DEEPMD INFO    saved checkpoint model.ckpt\n",
      "DEEPMD INFO    batch    6200 training time 14.63 s, testing time 0.05 s, total wall time 15.18 s\n",
      "DEEPMD INFO    batch    6400 training time 16.34 s, testing time 0.05 s, total wall time 16.55 s\n",
      "DEEPMD INFO    batch    6600 training time 14.53 s, testing time 0.04 s, total wall time 14.70 s\n",
      "DEEPMD INFO    batch    6800 training time 16.01 s, testing time 0.04 s, total wall time 16.18 s\n",
      "DEEPMD INFO    batch    7000 training time 15.53 s, testing time 0.11 s, total wall time 15.77 s\n",
      "DEEPMD INFO    saved checkpoint model.ckpt\n",
      "DEEPMD INFO    batch    7200 training time 15.02 s, testing time 0.05 s, total wall time 15.75 s\n",
      "DEEPMD INFO    batch    7400 training time 16.69 s, testing time 0.06 s, total wall time 16.89 s\n",
      "DEEPMD INFO    batch    7600 training time 14.35 s, testing time 0.05 s, total wall time 14.52 s\n",
      "DEEPMD INFO    batch    7800 training time 16.44 s, testing time 0.05 s, total wall time 16.63 s\n",
      "DEEPMD INFO    batch    8000 training time 16.67 s, testing time 0.07 s, total wall time 16.86 s\n",
      "DEEPMD INFO    saved checkpoint model.ckpt\n",
      "DEEPMD INFO    batch    8200 training time 15.28 s, testing time 0.05 s, total wall time 16.07 s\n",
      "DEEPMD INFO    batch    8400 training time 16.78 s, testing time 0.05 s, total wall time 16.95 s\n",
      "DEEPMD INFO    batch    8600 training time 17.12 s, testing time 0.09 s, total wall time 17.36 s\n",
      "DEEPMD INFO    batch    8800 training time 15.89 s, testing time 0.05 s, total wall time 16.06 s\n",
      "DEEPMD INFO    batch    9000 training time 16.76 s, testing time 0.05 s, total wall time 16.97 s\n",
      "DEEPMD INFO    saved checkpoint model.ckpt\n",
      "DEEPMD INFO    batch    9200 training time 16.94 s, testing time 0.05 s, total wall time 17.55 s\n",
      "DEEPMD INFO    batch    9400 training time 15.52 s, testing time 0.05 s, total wall time 15.70 s\n",
      "DEEPMD INFO    batch    9600 training time 16.85 s, testing time 0.05 s, total wall time 17.02 s\n",
      "DEEPMD INFO    batch    9800 training time 17.93 s, testing time 0.05 s, total wall time 18.11 s\n",
      "DEEPMD INFO    batch   10000 training time 15.91 s, testing time 0.11 s, total wall time 16.16 s\n",
      "DEEPMD INFO    saved checkpoint model.ckpt\n",
      "DEEPMD INFO    average training time: 0.0803 s/batch (exclude first 200 batches)\n",
      "DEEPMD INFO    finished training\n",
      "DEEPMD INFO    wall time: 822.217 s\n"
     ]
    }
   ],
   "source": [
    "# ########## Time Warning: 120 secs ##########\n",
    "! cd DeePMD-kit_Tutorial/01.train/ && dp train input.json"
   ]
  },
  {
   "cell_type": "markdown",
   "id": "c10e0a81-ef33-49ab-ae2d-83fbd35985ac",
   "metadata": {
    "tags": []
   },
   "source": [
    "On the screen, you will see the information of the data system(s)\n",
    "\n",
    "```\n",
    "DEEPMD INFO    -----------------------------------------------------------------\n",
    "DEEPMD INFO    ---Summary of DataSystem: training     ----------------------------------\n",
    "DEEPMD INFO    found 1 system(s):\n",
    "DEEPMD INFO                                 system  natoms  bch_sz   n_bch   prob  pbc\n",
    "DEEPMD INFO               ../00.data/training_data       5       7      23  1.000    T\n",
    "DEEPMD INFO    -------------------------------------------------------------------------\n",
    "DEEPMD INFO    ---Summary of DataSystem: validation   ----------------------------------\n",
    "DEEPMD INFO    found 1 system(s):\n",
    "DEEPMD INFO                                 system  natoms  bch_sz   n_bch   prob  pbc\n",
    "DEEPMD INFO             ../00.data/validation_data       5       7       5  1.000    T\n",
    "DEEPMD INFO    -------------------------------------------------------------------------\n",
    "```\n",
    "\n",
    "and the starting and final learning rate of this training\n",
    "\n",
    "```\n",
    "DEEPMD INFO    start training at lr 1.00e-03 (== 1.00e-03), decay_step 50, decay_rate 0.950006, final lr will be 3.51e-08\n",
    "```\n",
    "\n",
    "If everything works fine, you will see, on the screen, information printed every 1000 steps, like\n",
    "\n",
    "```\n",
    "DEEPMD INFO    batch     200 training time 6.04 s, testing time 0.02 s\n",
    "DEEPMD INFO    batch     400 training time 4.80 s, testing time 0.02 s\n",
    "DEEPMD INFO    batch     600 training time 4.80 s, testing time 0.02 s\n",
    "DEEPMD INFO    batch     800 training time 4.78 s, testing time 0.02 s\n",
    "DEEPMD INFO    batch    1000 training time 4.77 s, testing time 0.02 s\n",
    "DEEPMD INFO    saved checkpoint model.ckpt\n",
    "DEEPMD INFO    batch    1200 training time 4.47 s, testing time 0.02 s\n",
    "DEEPMD INFO    batch    1400 training time 4.49 s, testing time 0.02 s\n",
    "DEEPMD INFO    batch    1600 training time 4.45 s, testing time 0.02 s\n",
    "DEEPMD INFO    batch    1800 training time 4.44 s, testing time 0.02 s\n",
    "DEEPMD INFO    batch    2000 training time 4.46 s, testing time 0.02 s\n",
    "DEEPMD INFO    saved checkpoint model.ckpt\n",
    "```\n",
    "\n",
    "They present the training and testing time counts. At the end of the 1000th batch, the model is saved in Tensorflow's checkpoint file `model.ckpt`. At the same time, the training and testing errors are presented in file `lcurve.out`. \n",
    "\n",
    "The file contains 8 columns, form left to right, are the training step, the validation loss, training loss, root mean square (RMS) validation error of energy, RMS training error of energy, RMS validation error of force, RMS training error of force and the learning rate. The RMS error (RMSE) of the energy is normalized by number of atoms in the system. \n",
    "```\n",
    "head -n 2 lcurve.out\n",
    "#  step      rmse_val    rmse_trn    rmse_e_val  rmse_e_trn    rmse_f_val  rmse_f_trn         lr\n",
    "      0      2.02e+01    1.51e+01      1.37e-01    1.41e-01      6.40e-01    4.79e-01    1.0e-03\n",
    "```\n",
    "and\n",
    "```\n",
    "$ tail -n 2 lcurve.out\n",
    "   9800      2.45e-02    4.02e-02      3.20e-04    3.88e-04      2.40e-02    3.94e-02    4.3e-08\n",
    "  10000      4.60e-02    3.76e-02      8.65e-04    5.35e-04      4.52e-02    3.69e-02    3.5e-08\n",
    "```\n",
    "Volumes 4, 5 and 6, 7 present energy and force training and testing errors, respectively. "
   ]
  },
  {
   "cell_type": "code",
   "execution_count": 12,
   "id": "4aabcec8-9058-4582-863d-00550bb05187",
   "metadata": {},
   "outputs": [
    {
     "name": "stdout",
     "output_type": "stream",
     "text": [
      "#  step      rmse_val    rmse_trn    rmse_e_val  rmse_e_trn    rmse_f_val  rmse_f_trn         lr\n",
      "# If there is no available reference data, rmse_*_{val,trn} will print nan\n",
      "   9800      2.40e-02    2.82e-02      2.27e-04    3.77e-04      2.35e-02    2.76e-02    4.3e-08\n",
      "  10000      3.82e-02    3.02e-02      6.48e-04    3.29e-04      3.75e-02    2.97e-02    3.5e-08\n"
     ]
    }
   ],
   "source": [
    "! cd DeePMD-kit_Tutorial/01.train.finished/ && head -n 2 lcurve.out && tail -n 2 lcurve.out"
   ]
  },
  {
   "cell_type": "markdown",
   "id": "34f3de74-9b9c-4143-94c6-1b91adbfb8d4",
   "metadata": {},
   "source": [
    "The loss function can be visualized to monitor the training process."
   ]
  },
  {
   "cell_type": "code",
   "execution_count": 13,
   "id": "a7444fb4-a869-4b44-a1e3-2d74679189ed",
   "metadata": {},
   "outputs": [
    {
     "data": {
      "image/png": "[encoded data removed]",
      "text/plain": [
       "<Figure size 640x480 with 1 Axes>"
      ]
     },
     "metadata": {},
     "output_type": "display_data"
    }
   ],
   "source": [
    "import numpy as np\n",
    "import matplotlib.pyplot as plt\n",
    "import pandas as pd\n",
    "\n",
    "with open(\"./DeePMD-kit_Tutorial/01.train.finished/lcurve.out\") as f:\n",
    "    headers = f.readline().split()[1:]\n",
    "lcurve = pd.DataFrame(\n",
    "    np.loadtxt(\"./DeePMD-kit_Tutorial/01.train.finished/lcurve.out\"), columns=headers\n",
    ")\n",
    "legends = [\"rmse_e_val\", \"rmse_e_trn\", \"rmse_f_val\", \"rmse_f_trn\"]\n",
    "for legend in legends:\n",
    "    plt.loglog(lcurve[\"step\"], lcurve[legend], label=legend)\n",
    "plt.legend()\n",
    "plt.xlabel(\"Training steps\")\n",
    "plt.ylabel(\"Loss\")\n",
    "plt.show()"
   ]
  },
  {
   "cell_type": "markdown",
   "id": "8009ad0a-9902-42d3-b280-caee92cbdf10",
   "metadata": {},
   "source": [
    "### 4 Freeze a model <a id ='freezeamodel'></a>\n",
    "\n",
    "At the end of the training, the model parameters saved in TensorFlow's checkpoint file should be frozen as a model file that is usually ended with extension .pb. Simply execute"
   ]
  },
  {
   "cell_type": "code",
   "execution_count": 14,
   "id": "b20d368a-135c-4314-ae4c-47bf1f28c4d7",
   "metadata": {
    "scrolled": true,
    "tags": []
   },
   "outputs": [
    {
     "name": "stdout",
     "output_type": "stream",
     "text": [
      "WARNING:tensorflow:From /root/miniconda3/envs/deepmd/lib/python3.10/site-packages/tensorflow/python/compat/v2_compat.py:107: disable_resource_variables (from tensorflow.python.ops.variable_scope) is deprecated and will be removed in a future version.\n",
      "Instructions for updating:\n",
      "non-resource variables are not supported in the long term\n",
      "WARNING:root:To get the best performance, it is recommended to adjust the number of threads by setting the environment variables OMP_NUM_THREADS, TF_INTRA_OP_PARALLELISM_THREADS, and TF_INTER_OP_PARALLELISM_THREADS. See https://deepmd.rtfd.io/parallelism/ for more information.\n",
      "DEEPMD WARNING The following nodes are not in the graph: {'spin_attr/ntypes_spin', 'fitting_attr/aparam_nall'}. Skip freezeing these nodes. You may be freezing a checkpoint generated by an old version.\n",
      "DEEPMD INFO    The following nodes will be frozen: ['model_type', 'o_atom_virial', 'fitting_attr/daparam', 'model_attr/model_type', 'model_attr/tmap', 'o_force', 'o_virial', 'descrpt_attr/rcut', 'train_attr/min_nbor_dist', 'fitting_attr/dfparam', 't_mesh', 'o_atom_energy', 'train_attr/training_script', 'descrpt_attr/ntypes', 'o_energy', 'model_attr/model_version']\n",
      "WARNING:tensorflow:From /root/miniconda3/envs/deepmd/lib/python3.10/site-packages/deepmd/entrypoints/freeze.py:370: convert_variables_to_constants (from tensorflow.python.framework.graph_util_impl) is deprecated and will be removed in a future version.\n",
      "Instructions for updating:\n",
      "Use `tf.compat.v1.graph_util.convert_variables_to_constants`\n",
      "WARNING:tensorflow:From /root/miniconda3/envs/deepmd/lib/python3.10/site-packages/deepmd/entrypoints/freeze.py:370: convert_variables_to_constants (from tensorflow.python.framework.graph_util_impl) is deprecated and will be removed in a future version.\n",
      "Instructions for updating:\n",
      "Use `tf.compat.v1.graph_util.convert_variables_to_constants`\n",
      "WARNING:tensorflow:From /root/miniconda3/envs/deepmd/lib/python3.10/site-packages/tensorflow/python/framework/convert_to_constants.py:925: extract_sub_graph (from tensorflow.python.framework.graph_util_impl) is deprecated and will be removed in a future version.\n",
      "Instructions for updating:\n",
      "Use `tf.compat.v1.graph_util.extract_sub_graph`\n",
      "WARNING:tensorflow:From /root/miniconda3/envs/deepmd/lib/python3.10/site-packages/tensorflow/python/framework/convert_to_constants.py:925: extract_sub_graph (from tensorflow.python.framework.graph_util_impl) is deprecated and will be removed in a future version.\n",
      "Instructions for updating:\n",
      "Use `tf.compat.v1.graph_util.extract_sub_graph`\n",
      "DEEPMD INFO    1222 ops in the final graph.\n"
     ]
    }
   ],
   "source": [
    "## Navigate to the DeePMD-kit_Tutorial/01.train/ Directory to Freeze the Model\n",
    "! cd DeePMD-kit_Tutorial/01.train.finished/ && dp freeze -o graph.pb"
   ]
  },
  {
   "cell_type": "markdown",
   "id": "3b23f3c9-5809-4a65-9126-f9e6d2f3a10b",
   "metadata": {},
   "source": [
    "and it will output a model file named `graph.pb` in the current directory. "
   ]
  },
  {
   "cell_type": "markdown",
   "id": "3de9a2d0",
   "metadata": {},
   "source": [
    "### 5 Compress a model <a id ='compressamodel'></a>\n",
    "\n"
   ]
  },
  {
   "cell_type": "markdown",
   "id": "8089fe4d",
   "metadata": {},
   "source": [
    "To enhance computational efficiency with DP models, compression significantly accelerates DP-based calculations and reduces memory usage. We can compress the model by running:"
   ]
  },
  {
   "cell_type": "code",
   "execution_count": 2,
   "id": "bb71bdd0",
   "metadata": {},
   "outputs": [
    {
     "name": "stdout",
     "output_type": "stream",
     "text": [
      "zsh:cd:1: no such file or directory: DeePMD-kit_Tutorial/01.train.finished/\n"
     ]
    }
   ],
   "source": [
    "## Navigate to the DeePMD-kit_Tutorial/01.train/ Directory to Compress the Model\n",
    "! cd DeePMD-kit_Tutorial/01.train.finished/ && dp compress -i graph.pb -o compress.pb"
   ]
  },
  {
   "cell_type": "markdown",
   "id": "2882c201-0e85-46d0-94f8-e055a540b6fb",
   "metadata": {},
   "source": [
    "### 6 Test a model <a id ='testamodel'></a>\n",
    "\n",
    "We can check the quality of the trained model by running\n"
   ]
  },
  {
   "cell_type": "code",
   "execution_count": 15,
   "id": "5d201246-b110-4e63-a09b-ad7308bc1367",
   "metadata": {
    "scrolled": true,
    "tags": []
   },
   "outputs": [
    {
     "name": "stdout",
     "output_type": "stream",
     "text": [
      "WARNING:tensorflow:From /root/miniconda3/envs/deepmd/lib/python3.10/site-packages/tensorflow/python/compat/v2_compat.py:107: disable_resource_variables (from tensorflow.python.ops.variable_scope) is deprecated and will be removed in a future version.\n",
      "Instructions for updating:\n",
      "non-resource variables are not supported in the long term\n",
      "WARNING:root:To get the best performance, it is recommended to adjust the number of threads by setting the environment variables OMP_NUM_THREADS, TF_INTRA_OP_PARALLELISM_THREADS, and TF_INTER_OP_PARALLELISM_THREADS. See https://deepmd.rtfd.io/parallelism/ for more information.\n",
      "WARNING:tensorflow:From /root/miniconda3/envs/deepmd/lib/python3.10/site-packages/deepmd/utils/batch_size.py:62: is_gpu_available (from tensorflow.python.framework.test_util) is deprecated and will be removed in a future version.\n",
      "Instructions for updating:\n",
      "Use `tf.config.list_physical_devices('GPU')` instead.\n",
      "WARNING:tensorflow:From /root/miniconda3/envs/deepmd/lib/python3.10/site-packages/deepmd/utils/batch_size.py:62: is_gpu_available (from tensorflow.python.framework.test_util) is deprecated and will be removed in a future version.\n",
      "Instructions for updating:\n",
      "Use `tf.config.list_physical_devices('GPU')` instead.\n",
      "DEEPMD WARNING You can use the environment variable DP_INFER_BATCH_SIZE tocontrol the inference batch size (nframes * natoms). The default value is 1024.\n",
      "DEEPMD INFO    # ---------------output of dp test--------------- \n",
      "DEEPMD INFO    # testing system : ../00.data/validation_data\n",
      "DEEPMD INFO    # number of test data : 40 \n",
      "DEEPMD INFO    Energy MAE         : 1.947297e-03 eV\n",
      "DEEPMD INFO    Energy RMSE        : 2.568049e-03 eV\n",
      "DEEPMD INFO    Energy MAE/Natoms  : 3.894594e-04 eV\n",
      "DEEPMD INFO    Energy RMSE/Natoms : 5.136098e-04 eV\n",
      "DEEPMD INFO    Force  MAE         : 2.478063e-02 eV/A\n",
      "DEEPMD INFO    Force  RMSE        : 3.354447e-02 eV/A\n",
      "DEEPMD INFO    Virial MAE         : 2.883222e-02 eV\n",
      "DEEPMD INFO    Virial RMSE        : 4.083024e-02 eV\n",
      "DEEPMD INFO    Virial MAE/Natoms  : 5.766444e-03 eV\n",
      "DEEPMD INFO    Virial RMSE/Natoms : 8.166047e-03 eV\n",
      "DEEPMD INFO    # ----------------------------------------------- \n"
     ]
    }
   ],
   "source": [
    "! cd DeePMD-kit_Tutorial/01.train.finished/ && dp test -m graph.pb -s ../00.data/validation_data"
   ]
  },
  {
   "cell_type": "markdown",
   "id": "7f48e0a9-644f-4588-b9f3-cc115851a1ed",
   "metadata": {},
   "source": [
    "The correlation between predicted data and original data can also be calculated."
   ]
  },
  {
   "cell_type": "code",
   "execution_count": 16,
   "id": "be03c8da-e4f9-439d-bb22-800b651a7737",
   "metadata": {},
   "outputs": [
    {
     "name": "stdout",
     "output_type": "stream",
     "text": [
      "WARNING:tensorflow:From /root/miniconda3/envs/deepmd/lib/python3.10/site-packages/tensorflow/python/compat/v2_compat.py:107: disable_resource_variables (from tensorflow.python.ops.variable_scope) is deprecated and will be removed in a future version.\n",
      "Instructions for updating:\n",
      "non-resource variables are not supported in the long term\n"
     ]
    },
    {
     "name": "stderr",
     "output_type": "stream",
     "text": [
      "WARNING:root:To get the best performance, it is recommended to adjust the number of threads by setting the environment variables OMP_NUM_THREADS, TF_INTRA_OP_PARALLELISM_THREADS, and TF_INTER_OP_PARALLELISM_THREADS. See https://deepmd.rtfd.io/parallelism/ for more information.\n"
     ]
    },
    {
     "name": "stdout",
     "output_type": "stream",
     "text": [
      "WARNING:tensorflow:From /root/miniconda3/envs/deepmd/lib/python3.10/site-packages/deepmd/utils/batch_size.py:62: is_gpu_available (from tensorflow.python.framework.test_util) is deprecated and will be removed in a future version.\n",
      "Instructions for updating:\n",
      "Use `tf.config.list_physical_devices('GPU')` instead.\n"
     ]
    },
    {
     "name": "stderr",
     "output_type": "stream",
     "text": [
      "2024-03-19 19:42:27.272130: I tensorflow/core/platform/cpu_feature_guard.cc:193] This TensorFlow binary is optimized with oneAPI Deep Neural Network Library (oneDNN) to use the following CPU instructions in performance-critical operations:  SSE4.1 SSE4.2 AVX AVX2 AVX512F FMA\n",
      "To enable them in other operations, rebuild TensorFlow with the appropriate compiler flags.\n",
      "2024-03-19 19:42:27.275152: I tensorflow/core/common_runtime/process_util.cc:146] Creating new thread pool with default inter op setting: 2. Tune using inter_op_parallelism_threads for best performance.\n",
      "2024-03-19 19:42:27.294336: I tensorflow/compiler/mlir/mlir_graph_optimization_pass.cc:354] MLIR V1 optimization pass is not enabled\n",
      "WARNING:tensorflow:From /root/miniconda3/envs/deepmd/lib/python3.10/site-packages/deepmd/utils/batch_size.py:62: is_gpu_available (from tensorflow.python.framework.test_util) is deprecated and will be removed in a future version.\n",
      "Instructions for updating:\n",
      "Use `tf.config.list_physical_devices('GPU')` instead.\n",
      "WARNING:deepmd.utils.batch_size:You can use the environment variable DP_INFER_BATCH_SIZE tocontrol the inference batch size (nframes * natoms). The default value is 1024.\n"
     ]
    }
   ],
   "source": [
    "import dpdata\n",
    "\n",
    "training_systems = dpdata.LabeledSystem(\n",
    "    \"./DeePMD-kit_Tutorial/00.data/training_data\", fmt=\"deepmd/npy\"\n",
    ")\n",
    "predict = training_systems.predict(\"./DeePMD-kit_Tutorial/01.train.finished/graph.pb\")"
   ]
  },
  {
   "cell_type": "code",
   "execution_count": 17,
   "id": "b4005a62-8bf2-4aaf-8865-20ea303ea0f2",
   "metadata": {},
   "outputs": [
    {
     "data": {
      "text/plain": [
       "[]"
      ]
     },
     "execution_count": 17,
     "metadata": {},
     "output_type": "execute_result"
    },
    {
     "data": {
      "image/png": "[encoded data removed]",
      "text/plain": [
       "<Figure size 640x480 with 1 Axes>"
      ]
     },
     "metadata": {},
     "output_type": "display_data"
    }
   ],
   "source": [
    "import matplotlib.pyplot as plt\n",
    "import numpy as np\n",
    "\n",
    "plt.scatter(training_systems[\"energies\"], predict[\"energies\"])\n",
    "\n",
    "x_range = np.linspace(plt.xlim()[0], plt.xlim()[1])\n",
    "\n",
    "plt.plot(x_range, x_range, \"r--\", linewidth=0.25)\n",
    "plt.xlabel(\"Energy of DFT\")\n",
    "plt.ylabel(\"Energy predicted by deep potential\")\n",
    "plt.plot()"
   ]
  },
  {
   "cell_type": "markdown",
   "id": "fffaad23-53a6-47dd-8d91-9beb68d1212b",
   "metadata": {},
   "source": [
    "### 7 Run MD with LAMMPS <a id ='lammpsmd'></a>\n",
    "\n",
    "The model can drive molecular dynamics in LAMMPS. \n"
   ]
  },
  {
   "cell_type": "code",
   "execution_count": 18,
   "id": "d0ceac75-9753-4ae8-b954-c2cc6d005e46",
   "metadata": {},
   "outputs": [
    {
     "name": "stdout",
     "output_type": "stream",
     "text": [
      "DeePMD-kit_Tutorial\n",
      "\u001b[01;34m.\u001b[0m\n",
      "├── \u001b[01;32mch4.dump\u001b[0m\n",
      "├── \u001b[01;32mconf.lmp\u001b[0m\n",
      "├── \u001b[01;32mgraph.pb\u001b[0m\n",
      "└── \u001b[01;32min.lammps\u001b[0m\n",
      "\n",
      "0 directories, 4 files\n"
     ]
    }
   ],
   "source": [
    "! ls\n",
    "! cd ./DeePMD-kit_Tutorial/02.lmp && cp ../01.train.finished/graph.pb ./ && tree -L 1"
   ]
  },
  {
   "cell_type": "markdown",
   "id": "c794572f-7e9c-42f7-b78a-4d82bd3f3118",
   "metadata": {},
   "source": [
    "Here `conf.lmp` gives the initial configuration of a gas phase methane MD simulation, and the file `in.lammps` is the LAMMPS input script. One may check in.lammps and finds that it is a rather standard LAMMPS input file for a MD simulation, with only two exception lines:\n",
    "```\n",
    "pair_style  deepmd graph.pb\n",
    "pair_coeff  * *\n",
    "```\n",
    "where the pair style deepmd is invoked and the model file `graph.pb` is provided, which means the atomic interaction will be computed by the DP model that is stored in the file `graph.pb`. \n",
    "\n",
    "In an environment with a compatibable version of LAMMPS, the deep potential molecular dynamics can be performed via \n",
    "\n",
    "```bash\n",
    "lmp -i input.lammps\n",
    "```"
   ]
  },
  {
   "cell_type": "code",
   "execution_count": 19,
   "id": "f4501e9c-541c-431d-8847-d0d9eecfb0e0",
   "metadata": {
    "scrolled": true
   },
   "outputs": [
    {
     "name": "stdout",
     "output_type": "stream",
     "text": [
      "LAMMPS (2 Aug 2023 - Update 1)\n",
      "OMP_NUM_THREADS environment is not set. Defaulting to 1 thread. (src/comm.cpp:98)\n",
      "  using 1 OpenMP thread(s) per MPI task\n",
      "Loaded 1 plugins from /root/miniconda3/envs/deepmd/lib/deepmd_lmp\n",
      "Reading data file ...\n",
      "  triclinic box = (0 0 0) to (10.114259 10.263124 10.216793) with tilt (0.036749877 0.13833062 -0.056322169)\n",
      "  1 by 1 by 1 MPI processor grid\n",
      "  reading atoms ...\n",
      "  5 atoms\n",
      "  read_data CPU = 0.011 seconds\n",
      "DeePMD-kit WARNING: Environmental variable OMP_NUM_THREADS is not set. Tune OMP_NUM_THREADS for the best performance. See https://deepmd.rtfd.io/parallelism/ for more information.\n",
      "Summary of lammps deepmd module ...\n",
      "  >>> Info of deepmd-kit:\n",
      "  installed to:       /root/miniconda3/envs/deepmd\n",
      "  source:             v2.2.7\n",
      "  source branch:       HEAD\n",
      "  source commit:      839f4fe7\n",
      "  source commit at:   2023-10-27 21:10:24 +0800\n",
      "  surpport model ver.:1.1 \n",
      "  build variant:      cpu\n",
      "  build with tf inc:  /root/miniconda3/envs/deepmd/include;/root/miniconda3/envs/deepmd/include\n",
      "  build with tf lib:  /root/miniconda3/envs/deepmd/lib/libtensorflow_cc.so\n",
      "  set tf intra_op_parallelism_threads: 0\n",
      "  set tf inter_op_parallelism_threads: 0\n",
      "  >>> Info of lammps module:\n",
      "  use deepmd-kit at:  /root/miniconda3/envs/deepmdDeePMD-kit WARNING: Environmental variable OMP_NUM_THREADS is not set. Tune OMP_NUM_THREADS for the best performance. See https://deepmd.rtfd.io/parallelism/ for more information.\n",
      "2024-03-19 19:42:31.143521: I tensorflow/core/platform/cpu_feature_guard.cc:193] This TensorFlow binary is optimized with oneAPI Deep Neural Network Library (oneDNN) to use the following CPU instructions in performance-critical operations:  SSE4.1 SSE4.2 AVX AVX2 AVX512F FMA\n",
      "To enable them in other operations, rebuild TensorFlow with the appropriate compiler flags.\n",
      "2024-03-19 19:42:31.150107: I tensorflow/core/common_runtime/process_util.cc:146] Creating new thread pool with default inter op setting: 2. Tune using inter_op_parallelism_threads for best performance.\n",
      "2024-03-19 19:42:31.217323: I tensorflow/compiler/mlir/mlir_graph_optimization_pass.cc:354] MLIR V1 optimization pass is not enabled\n",
      "INVALID_ARGUMENT: Tensor spin_attr/ntypes_spin:0, specified in either feed_devices or fetch_devices was not found in the Graph\n",
      "  >>> Info of model(s):\n",
      "  using   1 model(s): graph.pb \n",
      "  rcut in model:      6\n",
      "  ntypes in model:    2\n",
      "\n",
      "CITE-CITE-CITE-CITE-CITE-CITE-CITE-CITE-CITE-CITE-CITE-CITE-CITE\n",
      "\n",
      "Your simulation uses code contributions which should be cited:\n",
      "- USER-DEEPMD package:\n",
      "The log file lists these citations in BibTeX format.\n",
      "\n",
      "CITE-CITE-CITE-CITE-CITE-CITE-CITE-CITE-CITE-CITE-CITE-CITE-CITE\n",
      "\n",
      "Generated 0 of 1 mixed pair_coeff terms from geometric mixing rule\n",
      "Neighbor list info ...\n",
      "  update: every = 10 steps, delay = 0 steps, check = no\n",
      "  max neighbors/atom: 2000, page size: 100000\n",
      "  master list distance cutoff = 7\n",
      "  ghost atom cutoff = 7\n",
      "  binsize = 3.5, bins = 3 3 3\n",
      "  1 neighbor lists, perpetual/occasional/extra = 1 0 0\n",
      "  (1) pair deepmd, perpetual\n",
      "      attributes: full, newton on\n",
      "      pair build: full/bin/atomonly\n",
      "      stencil: full/bin/3d\n",
      "      bin: standard\n",
      "Setting up Verlet run ...\n",
      "  Unit style    : metal\n",
      "  Current step  : 0\n",
      "  Time step     : 0.001\n",
      "Per MPI rank memory allocation (min/avg/max) = 2.559 | 2.559 | 2.559 Mbytes\n",
      "   Step         PotEng         KinEng         TotEng          Temp          Press          Volume    \n",
      "         0  -219.77406      0.025852029   -219.74821      50            -779.25188      1060.5429    \n",
      "       100  -219.7691       0.020797437   -219.7483       40.223994     -637.14305      1060.5429    \n",
      "       200  -219.77444      0.024939285   -219.7495       48.234676     -320.40098      1060.5429    \n",
      "       300  -219.78439      0.033072979   -219.75132      63.965925      43.026442      1060.5429    \n",
      "       400  -219.78739      0.034550668   -219.75284      66.823899      351.67696      1060.5429    \n",
      "       500  -219.78236      0.028176993   -219.75419      54.496675      666.75737      1060.5429    \n",
      "       600  -219.78253      0.025728877   -219.7568       49.761815      711.163        1060.5429    \n",
      "       700  -219.78894      0.028382389   -219.76055      54.893929      479.13643      1060.5429    \n",
      "       800  -219.78903      0.024859643   -219.76417      48.080642      83.077656      1060.5429    \n",
      "       900  -219.78291      0.015448216   -219.76746      29.878151     -300.47299      1060.5429    \n",
      "      1000  -219.78076      0.009958727   -219.7708       19.261016     -547.51181      1060.5429    \n",
      "      1100  -219.78482      0.010708236   -219.77412      20.710629     -528.61764      1060.5429    \n",
      "      1200  -219.79088      0.014010222   -219.77687      27.096949     -271.00462      1060.5429    \n",
      "      1300  -219.79342      0.014851244   -219.77856      28.723555      113.17225      1060.5429    \n",
      "      1400  -219.79258      0.013154759   -219.77943      25.442411      429.376        1060.5429    \n",
      "      1500  -219.79351      0.013439034   -219.78007      25.992223      502.07008      1060.5429    \n",
      "      1600  -219.79556      0.015244258   -219.78032      29.483679      283.58943      1060.5429    \n",
      "      1700  -219.79243      0.012780435   -219.77965      24.718437     -118.65863      1060.5429    \n",
      "      1800  -219.78753      0.0093475149  -219.77818      18.078881     -440.59299      1060.5429    \n",
      "      1900  -219.78644      0.010485894   -219.77595      20.280601     -548.35192      1060.5429    \n",
      "      2000  -219.78657      0.014291536   -219.77228      27.641033     -379.53425      1060.5429    \n",
      "      2100  -219.78582      0.019271324   -219.76655      37.272363      3.8622352      1060.5429    \n",
      "      2200  -219.78342      0.023480599   -219.75994      45.413455      421.70988      1060.5429    \n",
      "      2300  -219.7843       0.029382788   -219.75492      56.828785      667.59953      1060.5429    \n",
      "      2400  -219.78777      0.035686462   -219.75209      69.020621      708.56999      1060.5429    \n",
      "      2500  -219.78484      0.034331665   -219.75051      66.400331      560.05263      1060.5429    \n",
      "      2600  -219.781        0.031551297   -219.74945      61.022863      272.92453      1060.5429    \n",
      "      2700  -219.77767      0.028694937   -219.74898      55.498424     -150.97111      1060.5429    \n",
      "      2800  -219.77576      0.026724406   -219.74903      51.68725      -531.59493      1060.5429    \n",
      "      2900  -219.77353      0.02427308    -219.74926      46.946179     -733.24223      1060.5429    \n",
      "      3000  -219.77341      0.023395232   -219.75001      45.248349     -706.66882      1060.5429    \n",
      "      3100  -219.77969      0.028192211   -219.7515       54.526108     -543.66237      1060.5429    \n",
      "      3200  -219.78698      0.033417316   -219.75356      64.631901     -242.21772      1060.5429    \n",
      "      3300  -219.79019      0.034565479   -219.75562      66.852545      120.70082      1060.5429    \n",
      "      3400  -219.78417      0.026911374   -219.75726      52.048862      557.3674       1060.5429    \n",
      "      3500  -219.77449      0.01580688    -219.75868      30.571837      766.81564      1060.5429    \n",
      "      3600  -219.77669      0.015991276   -219.7607       30.928474      683.18009      1060.5429    \n",
      "      3700  -219.78572      0.022618548   -219.7631       43.746176      290.23355      1060.5429    \n",
      "      3800  -219.79279      0.027795739   -219.76499      53.759299     -181.24253      1060.5429    \n",
      "      3900  -219.78826      0.022283131   -219.76598      43.097451     -515.8167       1060.5429    \n",
      "      4000  -219.78236      0.015546589   -219.76681      30.068411     -608.47483      1060.5429    \n",
      "      4100  -219.7863       0.018324324   -219.76797      35.440785     -500.82916      1060.5429    \n",
      "      4200  -219.79138      0.022304319   -219.76908      43.138431     -200.46212      1060.5429    \n",
      "      4300  -219.78855      0.019344221   -219.7692       37.413352      235.01595      1060.5429    \n",
      "      4400  -219.78187      0.013421854   -219.76845      25.958995      569.04151      1060.5429    \n",
      "      4500  -219.77866      0.011098531   -219.76756      21.465493      679.98587      1060.5429    \n",
      "      4600  -219.78476      0.018276314   -219.76649      35.347929      462.8788       1060.5429    \n",
      "      4700  -219.79061      0.026535396   -219.76407      51.321689     -44.12474       1060.5429    \n",
      "      4800  -219.78698      0.027259367   -219.75972      52.721911     -476.42292      1060.5429    \n",
      "      4900  -219.77955      0.025502005   -219.75405      49.323023     -698.38931      1060.5429    \n",
      "      5000  -219.77457      0.026622642   -219.74795      51.49043      -707.85111      1060.5429    \n",
      "Loop time of 44.1004 on 1 procs for 5000 steps with 5 atoms\n",
      "\n",
      "Performance: 9.796 ns/day, 2.450 hours/ns, 113.378 timesteps/s, 566.888 atom-step/s\n",
      "94.5% CPU use with 1 MPI tasks x 1 OpenMP threads\n",
      "\n",
      "MPI task timing breakdown:\n",
      "Section |  min time  |  avg time  |  max time  |%varavg| %total\n",
      "---------------------------------------------------------------\n",
      "Pair    | 43.95      | 43.95      | 43.95      |   0.0 | 99.66\n",
      "Neigh   | 0.008028   | 0.008028   | 0.008028   |   0.0 |  0.02\n",
      "Comm    | 0.0354     | 0.0354     | 0.0354     |   0.0 |  0.08\n",
      "Output  | 0.0056147  | 0.0056147  | 0.0056147  |   0.0 |  0.01\n",
      "Modify  | 0.085761   | 0.085761   | 0.085761   |   0.0 |  0.19\n",
      "Other   |            | 0.0159     |            |       |  0.04\n",
      "\n",
      "Nlocal:              5 ave           5 max           5 min\n",
      "Histogram: 1 0 0 0 0 0 0 0 0 0\n",
      "Nghost:            130 ave         130 max         130 min\n",
      "Histogram: 1 0 0 0 0 0 0 0 0 0\n",
      "Neighs:              0 ave           0 max           0 min\n",
      "Histogram: 1 0 0 0 0 0 0 0 0 0\n",
      "FullNghs:           20 ave          20 max          20 min\n",
      "Histogram: 1 0 0 0 0 0 0 0 0 0\n",
      "\n",
      "Total # of neighbors = 20\n",
      "Ave neighs/atom = 4\n",
      "Neighbor list builds = 500\n",
      "Dangerous builds not checked\n",
      "Total wall time: 0:00:45\n"
     ]
    }
   ],
   "source": [
    "! cd ./DeePMD-kit_Tutorial/02.lmp && lmp -i in.lammps"
   ]
  }
 ],
 "metadata": {
  "kernelspec": {
   "display_name": "Python 3 (ipykernel)",
   "language": "python",
   "name": "python3"
  },
  "language_info": {
   "codemirror_mode": {
    "name": "ipython",
    "version": 3
   },
   "file_extension": ".py",
   "mimetype": "text/x-python",
   "name": "python",
   "nbconvert_exporter": "python",
   "pygments_lexer": "ipython3",
   "version": "3.11.8"
  }
 },
 "nbformat": 4,
 "nbformat_minor": 5
}
